{
 "cells": [
  {
   "cell_type": "code",
   "execution_count": 1,
   "metadata": {},
   "outputs": [],
   "source": [
    "import requests\n",
    "from bs4 import BeautifulSoup\n",
    "import pandas as pd\n",
    "import sqlite3\n",
    "import geopandas as gpd\n",
    "import numpy as np\n",
    "from geopandas.tools import geocode"
   ]
  },
  {
   "cell_type": "code",
   "execution_count": 5,
   "metadata": {},
   "outputs": [],
   "source": [
    "votacao_secao_2012 = pd.read_csv('/Users/willianribeiro/Documents/GitHub/dados-eleicoes-brasil-municipios/data/resultados/2012/votacao_secao_2012_SP/votacao_secao_2012_SP.csv', sep=';', encoding='Latin 1')\n",
    "votacao_secao_2020 = pd.read_csv('/Users/willianribeiro/Documents/GitHub/dados-eleicoes-brasil-municipios/data/resultados/2020/votacao_secao_2020_SP/votacao_secao_2020_SP.csv', sep=';', encoding='Latin 1')"
   ]
  },
  {
   "cell_type": "code",
   "execution_count": 6,
   "metadata": {},
   "outputs": [
    {
     "data": {
      "text/plain": [
       "Index(['DT_GERACAO', 'HH_GERACAO', 'ANO_ELEICAO', 'CD_TIPO_ELEICAO',\n",
       "       'NM_TIPO_ELEICAO', 'NR_TURNO', 'CD_ELEICAO', 'DS_ELEICAO', 'DT_ELEICAO',\n",
       "       'TP_ABRANGENCIA', 'SG_UF', 'SG_UE', 'NM_UE', 'CD_MUNICIPIO',\n",
       "       'NM_MUNICIPIO', 'NR_ZONA', 'NR_SECAO', 'CD_CARGO', 'DS_CARGO',\n",
       "       'NR_VOTAVEL', 'NM_VOTAVEL', 'QT_VOTOS', 'NR_LOCAL_VOTACAO'],\n",
       "      dtype='object')"
      ]
     },
     "execution_count": 6,
     "metadata": {},
     "output_type": "execute_result"
    }
   ],
   "source": [
    "votacao_secao_2012.columns"
   ]
  },
  {
   "cell_type": "code",
   "execution_count": 7,
   "metadata": {},
   "outputs": [
    {
     "data": {
      "text/plain": [
       "Index(['DT_GERACAO', 'HH_GERACAO', 'ANO_ELEICAO', 'CD_TIPO_ELEICAO',\n",
       "       'NM_TIPO_ELEICAO', 'NR_TURNO', 'CD_ELEICAO', 'DS_ELEICAO', 'DT_ELEICAO',\n",
       "       'TP_ABRANGENCIA', 'SG_UF', 'SG_UE', 'NM_UE', 'CD_MUNICIPIO',\n",
       "       'NM_MUNICIPIO', 'NR_ZONA', 'NR_SECAO', 'CD_CARGO', 'DS_CARGO',\n",
       "       'NR_VOTAVEL', 'NM_VOTAVEL', 'QT_VOTOS', 'NR_LOCAL_VOTACAO',\n",
       "       'SQ_CANDIDATO', 'NM_LOCAL_VOTACAO', 'DS_LOCAL_VOTACAO_ENDERECO'],\n",
       "      dtype='object')"
      ]
     },
     "execution_count": 7,
     "metadata": {},
     "output_type": "execute_result"
    }
   ],
   "source": [
    "votacao_secao_2020.columns"
   ]
  },
  {
   "cell_type": "code",
   "execution_count": 9,
   "metadata": {},
   "outputs": [],
   "source": [
    "ubatuba = votacao_secao_2020[votacao_secao_2020['NM_MUNICIPIO'] == 'UBATUBA']"
   ]
  },
  {
   "cell_type": "code",
   "execution_count": 10,
   "metadata": {},
   "outputs": [
    {
     "data": {
      "text/html": [
       "<div>\n",
       "<style scoped>\n",
       "    .dataframe tbody tr th:only-of-type {\n",
       "        vertical-align: middle;\n",
       "    }\n",
       "\n",
       "    .dataframe tbody tr th {\n",
       "        vertical-align: top;\n",
       "    }\n",
       "\n",
       "    .dataframe thead th {\n",
       "        text-align: right;\n",
       "    }\n",
       "</style>\n",
       "<table border=\"1\" class=\"dataframe\">\n",
       "  <thead>\n",
       "    <tr style=\"text-align: right;\">\n",
       "      <th></th>\n",
       "      <th>DT_GERACAO</th>\n",
       "      <th>HH_GERACAO</th>\n",
       "      <th>ANO_ELEICAO</th>\n",
       "      <th>CD_TIPO_ELEICAO</th>\n",
       "      <th>NM_TIPO_ELEICAO</th>\n",
       "      <th>NR_TURNO</th>\n",
       "      <th>CD_ELEICAO</th>\n",
       "      <th>DS_ELEICAO</th>\n",
       "      <th>DT_ELEICAO</th>\n",
       "      <th>TP_ABRANGENCIA</th>\n",
       "      <th>...</th>\n",
       "      <th>NR_SECAO</th>\n",
       "      <th>CD_CARGO</th>\n",
       "      <th>DS_CARGO</th>\n",
       "      <th>NR_VOTAVEL</th>\n",
       "      <th>NM_VOTAVEL</th>\n",
       "      <th>QT_VOTOS</th>\n",
       "      <th>NR_LOCAL_VOTACAO</th>\n",
       "      <th>SQ_CANDIDATO</th>\n",
       "      <th>NM_LOCAL_VOTACAO</th>\n",
       "      <th>DS_LOCAL_VOTACAO_ENDERECO</th>\n",
       "    </tr>\n",
       "  </thead>\n",
       "  <tbody>\n",
       "    <tr>\n",
       "      <th>55147</th>\n",
       "      <td>21/12/2020</td>\n",
       "      <td>16:55:14</td>\n",
       "      <td>2020</td>\n",
       "      <td>2</td>\n",
       "      <td>Eleição Ordinária</td>\n",
       "      <td>1</td>\n",
       "      <td>426</td>\n",
       "      <td>Eleições Municipais 2020</td>\n",
       "      <td>15/11/2020</td>\n",
       "      <td>M</td>\n",
       "      <td>...</td>\n",
       "      <td>151</td>\n",
       "      <td>13</td>\n",
       "      <td>Vereador</td>\n",
       "      <td>70</td>\n",
       "      <td>AVANTE</td>\n",
       "      <td>2</td>\n",
       "      <td>2003</td>\n",
       "      <td>0</td>\n",
       "      <td>EM JOSE BELARMINO SOBRINHO</td>\n",
       "      <td>ROD BR 101, KM 23</td>\n",
       "    </tr>\n",
       "    <tr>\n",
       "      <th>55148</th>\n",
       "      <td>21/12/2020</td>\n",
       "      <td>16:55:14</td>\n",
       "      <td>2020</td>\n",
       "      <td>2</td>\n",
       "      <td>Eleição Ordinária</td>\n",
       "      <td>1</td>\n",
       "      <td>426</td>\n",
       "      <td>Eleições Municipais 2020</td>\n",
       "      <td>15/11/2020</td>\n",
       "      <td>M</td>\n",
       "      <td>...</td>\n",
       "      <td>151</td>\n",
       "      <td>13</td>\n",
       "      <td>Vereador</td>\n",
       "      <td>22</td>\n",
       "      <td>Partido Liberal</td>\n",
       "      <td>1</td>\n",
       "      <td>2003</td>\n",
       "      <td>0</td>\n",
       "      <td>EM JOSE BELARMINO SOBRINHO</td>\n",
       "      <td>ROD BR 101, KM 23</td>\n",
       "    </tr>\n",
       "    <tr>\n",
       "      <th>55149</th>\n",
       "      <td>21/12/2020</td>\n",
       "      <td>16:55:14</td>\n",
       "      <td>2020</td>\n",
       "      <td>2</td>\n",
       "      <td>Eleição Ordinária</td>\n",
       "      <td>1</td>\n",
       "      <td>426</td>\n",
       "      <td>Eleições Municipais 2020</td>\n",
       "      <td>15/11/2020</td>\n",
       "      <td>M</td>\n",
       "      <td>...</td>\n",
       "      <td>151</td>\n",
       "      <td>13</td>\n",
       "      <td>Vereador</td>\n",
       "      <td>19</td>\n",
       "      <td>Podemos</td>\n",
       "      <td>1</td>\n",
       "      <td>2003</td>\n",
       "      <td>0</td>\n",
       "      <td>EM JOSE BELARMINO SOBRINHO</td>\n",
       "      <td>ROD BR 101, KM 23</td>\n",
       "    </tr>\n",
       "    <tr>\n",
       "      <th>55150</th>\n",
       "      <td>21/12/2020</td>\n",
       "      <td>16:55:14</td>\n",
       "      <td>2020</td>\n",
       "      <td>2</td>\n",
       "      <td>Eleição Ordinária</td>\n",
       "      <td>1</td>\n",
       "      <td>426</td>\n",
       "      <td>Eleições Municipais 2020</td>\n",
       "      <td>15/11/2020</td>\n",
       "      <td>M</td>\n",
       "      <td>...</td>\n",
       "      <td>151</td>\n",
       "      <td>13</td>\n",
       "      <td>Vereador</td>\n",
       "      <td>14</td>\n",
       "      <td>Partido Trabalhista Brasileiro</td>\n",
       "      <td>1</td>\n",
       "      <td>2003</td>\n",
       "      <td>0</td>\n",
       "      <td>EM JOSE BELARMINO SOBRINHO</td>\n",
       "      <td>ROD BR 101, KM 23</td>\n",
       "    </tr>\n",
       "    <tr>\n",
       "      <th>55151</th>\n",
       "      <td>21/12/2020</td>\n",
       "      <td>16:55:14</td>\n",
       "      <td>2020</td>\n",
       "      <td>2</td>\n",
       "      <td>Eleição Ordinária</td>\n",
       "      <td>1</td>\n",
       "      <td>426</td>\n",
       "      <td>Eleições Municipais 2020</td>\n",
       "      <td>15/11/2020</td>\n",
       "      <td>M</td>\n",
       "      <td>...</td>\n",
       "      <td>151</td>\n",
       "      <td>13</td>\n",
       "      <td>Vereador</td>\n",
       "      <td>12</td>\n",
       "      <td>Partido Democrático Trabalhista</td>\n",
       "      <td>2</td>\n",
       "      <td>2003</td>\n",
       "      <td>0</td>\n",
       "      <td>EM JOSE BELARMINO SOBRINHO</td>\n",
       "      <td>ROD BR 101, KM 23</td>\n",
       "    </tr>\n",
       "  </tbody>\n",
       "</table>\n",
       "<p>5 rows × 26 columns</p>\n",
       "</div>"
      ],
      "text/plain": [
       "       DT_GERACAO HH_GERACAO  ANO_ELEICAO  CD_TIPO_ELEICAO    NM_TIPO_ELEICAO  \\\n",
       "55147  21/12/2020   16:55:14         2020                2  Eleição Ordinária   \n",
       "55148  21/12/2020   16:55:14         2020                2  Eleição Ordinária   \n",
       "55149  21/12/2020   16:55:14         2020                2  Eleição Ordinária   \n",
       "55150  21/12/2020   16:55:14         2020                2  Eleição Ordinária   \n",
       "55151  21/12/2020   16:55:14         2020                2  Eleição Ordinária   \n",
       "\n",
       "       NR_TURNO  CD_ELEICAO                DS_ELEICAO  DT_ELEICAO  \\\n",
       "55147         1         426  Eleições Municipais 2020  15/11/2020   \n",
       "55148         1         426  Eleições Municipais 2020  15/11/2020   \n",
       "55149         1         426  Eleições Municipais 2020  15/11/2020   \n",
       "55150         1         426  Eleições Municipais 2020  15/11/2020   \n",
       "55151         1         426  Eleições Municipais 2020  15/11/2020   \n",
       "\n",
       "      TP_ABRANGENCIA  ... NR_SECAO  CD_CARGO  DS_CARGO  NR_VOTAVEL  \\\n",
       "55147              M  ...      151        13  Vereador          70   \n",
       "55148              M  ...      151        13  Vereador          22   \n",
       "55149              M  ...      151        13  Vereador          19   \n",
       "55150              M  ...      151        13  Vereador          14   \n",
       "55151              M  ...      151        13  Vereador          12   \n",
       "\n",
       "                            NM_VOTAVEL  QT_VOTOS  NR_LOCAL_VOTACAO  \\\n",
       "55147                           AVANTE         2              2003   \n",
       "55148                  Partido Liberal         1              2003   \n",
       "55149                          Podemos         1              2003   \n",
       "55150   Partido Trabalhista Brasileiro         1              2003   \n",
       "55151  Partido Democrático Trabalhista         2              2003   \n",
       "\n",
       "       SQ_CANDIDATO            NM_LOCAL_VOTACAO  DS_LOCAL_VOTACAO_ENDERECO  \n",
       "55147             0  EM JOSE BELARMINO SOBRINHO          ROD BR 101, KM 23  \n",
       "55148             0  EM JOSE BELARMINO SOBRINHO          ROD BR 101, KM 23  \n",
       "55149             0  EM JOSE BELARMINO SOBRINHO          ROD BR 101, KM 23  \n",
       "55150             0  EM JOSE BELARMINO SOBRINHO          ROD BR 101, KM 23  \n",
       "55151             0  EM JOSE BELARMINO SOBRINHO          ROD BR 101, KM 23  \n",
       "\n",
       "[5 rows x 26 columns]"
      ]
     },
     "execution_count": 10,
     "metadata": {},
     "output_type": "execute_result"
    }
   ],
   "source": [
    "ubatuba.head()"
   ]
  },
  {
   "cell_type": "code",
   "execution_count": 12,
   "metadata": {},
   "outputs": [],
   "source": [
    "ubatuba.to_csv('votacao_secao_2020_UBATUBA.csv', index=False)"
   ]
  },
  {
   "cell_type": "code",
   "execution_count": null,
   "metadata": {},
   "outputs": [],
   "source": []
  }
 ],
 "metadata": {
  "kernelspec": {
   "display_name": "base",
   "language": "python",
   "name": "python3"
  },
  "language_info": {
   "codemirror_mode": {
    "name": "ipython",
    "version": 3
   },
   "file_extension": ".py",
   "mimetype": "text/x-python",
   "name": "python",
   "nbconvert_exporter": "python",
   "pygments_lexer": "ipython3",
   "version": "3.11.7"
  }
 },
 "nbformat": 4,
 "nbformat_minor": 2
}
