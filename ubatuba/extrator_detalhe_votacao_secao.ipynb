{
 "cells": [
  {
   "cell_type": "code",
   "execution_count": 1,
   "metadata": {},
   "outputs": [],
   "source": [
    "import requests\n",
    "from bs4 import BeautifulSoup\n",
    "import pandas as pd\n",
    "import sqlite3\n",
    "import geopandas as gpd\n",
    "import numpy as np\n",
    "from geopandas.tools import geocode"
   ]
  },
  {
   "cell_type": "code",
   "execution_count": 2,
   "metadata": {},
   "outputs": [],
   "source": [
    "detalhe_votacao_secao_2020 = pd.read_csv('/Users/willianribeiro/Documents/GitHub/dados-eleicoes-brasil-municipios/data/resultados/2020/detalhe_votacao_secao_2020/detalhe_votacao_secao_2020_BRASIL.csv', sep=';', encoding='Latin 1')"
   ]
  },
  {
   "cell_type": "code",
   "execution_count": 4,
   "metadata": {},
   "outputs": [
    {
     "data": {
      "text/plain": [
       "Index(['DT_GERACAO', 'HH_GERACAO', 'ANO_ELEICAO', 'CD_TIPO_ELEICAO',\n",
       "       'NM_TIPO_ELEICAO', 'NR_TURNO', 'CD_ELEICAO', 'DS_ELEICAO', 'DT_ELEICAO',\n",
       "       'TP_ABRANGENCIA', 'SG_UF', 'SG_UE', 'NM_UE', 'CD_MUNICIPIO',\n",
       "       'NM_MUNICIPIO', 'NR_ZONA', 'NR_SECAO', 'CD_CARGO', 'DS_CARGO',\n",
       "       'QT_APTOS', 'QT_COMPARECIMENTO', 'QT_ABSTENCOES', 'QT_VOTOS_NOMINAIS',\n",
       "       'QT_VOTOS_BRANCOS', 'QT_VOTOS_NULOS', 'QT_VOTOS_LEGENDA',\n",
       "       'QT_VOTOS_ANULADOS_APU_SEP', 'NR_LOCAL_VOTACAO', 'NM_LOCAL_VOTACAO',\n",
       "       'DS_LOCAL_VOTACAO_ENDERECO'],\n",
       "      dtype='object')"
      ]
     },
     "execution_count": 4,
     "metadata": {},
     "output_type": "execute_result"
    }
   ],
   "source": [
    "detalhe_votacao_secao_2020.columns\n"
   ]
  },
  {
   "cell_type": "code",
   "execution_count": 5,
   "metadata": {},
   "outputs": [],
   "source": [
    "detalhe_votacao_secao_2020_UBATUBA = detalhe_votacao_secao_2020[detalhe_votacao_secao_2020['NM_MUNICIPIO'] == 'UBATUBA']"
   ]
  },
  {
   "cell_type": "code",
   "execution_count": 6,
   "metadata": {},
   "outputs": [
    {
     "name": "stdout",
     "output_type": "stream",
     "text": [
      "<class 'pandas.core.frame.DataFrame'>\n",
      "Index: 390 entries, 284727 to 633789\n",
      "Data columns (total 30 columns):\n",
      " #   Column                     Non-Null Count  Dtype \n",
      "---  ------                     --------------  ----- \n",
      " 0   DT_GERACAO                 390 non-null    object\n",
      " 1   HH_GERACAO                 390 non-null    object\n",
      " 2   ANO_ELEICAO                390 non-null    int64 \n",
      " 3   CD_TIPO_ELEICAO            390 non-null    int64 \n",
      " 4   NM_TIPO_ELEICAO            390 non-null    object\n",
      " 5   NR_TURNO                   390 non-null    int64 \n",
      " 6   CD_ELEICAO                 390 non-null    int64 \n",
      " 7   DS_ELEICAO                 390 non-null    object\n",
      " 8   DT_ELEICAO                 390 non-null    object\n",
      " 9   TP_ABRANGENCIA             390 non-null    object\n",
      " 10  SG_UF                      390 non-null    object\n",
      " 11  SG_UE                      390 non-null    int64 \n",
      " 12  NM_UE                      390 non-null    object\n",
      " 13  CD_MUNICIPIO               390 non-null    int64 \n",
      " 14  NM_MUNICIPIO               390 non-null    object\n",
      " 15  NR_ZONA                    390 non-null    int64 \n",
      " 16  NR_SECAO                   390 non-null    int64 \n",
      " 17  CD_CARGO                   390 non-null    int64 \n",
      " 18  DS_CARGO                   390 non-null    object\n",
      " 19  QT_APTOS                   390 non-null    int64 \n",
      " 20  QT_COMPARECIMENTO          390 non-null    int64 \n",
      " 21  QT_ABSTENCOES              390 non-null    int64 \n",
      " 22  QT_VOTOS_NOMINAIS          390 non-null    int64 \n",
      " 23  QT_VOTOS_BRANCOS           390 non-null    int64 \n",
      " 24  QT_VOTOS_NULOS             390 non-null    int64 \n",
      " 25  QT_VOTOS_LEGENDA           390 non-null    int64 \n",
      " 26  QT_VOTOS_ANULADOS_APU_SEP  390 non-null    int64 \n",
      " 27  NR_LOCAL_VOTACAO           390 non-null    int64 \n",
      " 28  NM_LOCAL_VOTACAO           390 non-null    object\n",
      " 29  DS_LOCAL_VOTACAO_ENDERECO  390 non-null    object\n",
      "dtypes: int64(18), object(12)\n",
      "memory usage: 94.5+ KB\n"
     ]
    }
   ],
   "source": [
    "detalhe_votacao_secao_2020_UBATUBA.info()"
   ]
  },
  {
   "cell_type": "code",
   "execution_count": 7,
   "metadata": {},
   "outputs": [],
   "source": [
    "detalhe_votacao_secao_2020_UBATUBA.to_csv('detalhe_votacao_secao_2020_UBATUBA.csv', index=False)"
   ]
  }
 ],
 "metadata": {
  "kernelspec": {
   "display_name": "base",
   "language": "python",
   "name": "python3"
  },
  "language_info": {
   "codemirror_mode": {
    "name": "ipython",
    "version": 3
   },
   "file_extension": ".py",
   "mimetype": "text/x-python",
   "name": "python",
   "nbconvert_exporter": "python",
   "pygments_lexer": "ipython3",
   "version": "3.11.7"
  }
 },
 "nbformat": 4,
 "nbformat_minor": 2
}
