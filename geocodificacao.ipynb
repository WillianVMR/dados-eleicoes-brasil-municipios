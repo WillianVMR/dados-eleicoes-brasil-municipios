{
 "cells": [
  {
   "cell_type": "code",
   "execution_count": 1,
   "metadata": {},
   "outputs": [],
   "source": [
    "import requests\n",
    "from bs4 import BeautifulSoup\n",
    "import pandas as pd\n",
    "import sqlite3\n",
    "import geopandas as gpd\n",
    "import numpy as np\n",
    "from geopandas.tools import geocode"
   ]
  },
  {
   "cell_type": "code",
   "execution_count": 2,
   "metadata": {},
   "outputs": [],
   "source": [
    "dataset_ubatuba = pd.read_csv('/Users/willianribeiro/Documents/GitHub/dados-eleicoes-brasil-municipios/data/resultados/2020/votacao_secao_2020_SP/votacao_secao_2020_SP.csv', sep=';', encoding='Latin 1')"
   ]
  },
  {
   "cell_type": "code",
   "execution_count": 3,
   "metadata": {},
   "outputs": [
    {
     "data": {
      "text/plain": [
       "Index(['DT_GERACAO', 'HH_GERACAO', 'ANO_ELEICAO', 'CD_TIPO_ELEICAO',\n",
       "       'NM_TIPO_ELEICAO', 'NR_TURNO', 'CD_ELEICAO', 'DS_ELEICAO', 'DT_ELEICAO',\n",
       "       'TP_ABRANGENCIA', 'SG_UF', 'SG_UE', 'NM_UE', 'CD_MUNICIPIO',\n",
       "       'NM_MUNICIPIO', 'NR_ZONA', 'NR_SECAO', 'CD_CARGO', 'DS_CARGO',\n",
       "       'NR_VOTAVEL', 'NM_VOTAVEL', 'QT_VOTOS', 'NR_LOCAL_VOTACAO',\n",
       "       'SQ_CANDIDATO', 'NM_LOCAL_VOTACAO', 'DS_LOCAL_VOTACAO_ENDERECO'],\n",
       "      dtype='object')"
      ]
     },
     "execution_count": 3,
     "metadata": {},
     "output_type": "execute_result"
    }
   ],
   "source": [
    "dataset_ubatuba.columns"
   ]
  },
  {
   "cell_type": "code",
   "execution_count": 3,
   "metadata": {},
   "outputs": [],
   "source": [
    "dataset_capital = dataset_sao_paulo[dataset_sao_paulo['NM_MUNICIPIO'] == 'UBATUBA']"
   ]
  },
  {
   "cell_type": "code",
   "execution_count": 19,
   "metadata": {},
   "outputs": [
    {
     "name": "stderr",
     "output_type": "stream",
     "text": [
      "/var/folders/hl/kty_dhp50c1c_z0jzx787tl80000gn/T/ipykernel_8126/3599255020.py:1: SettingWithCopyWarning: \n",
      "A value is trying to be set on a copy of a slice from a DataFrame.\n",
      "Try using .loc[row_indexer,col_indexer] = value instead\n",
      "\n",
      "See the caveats in the documentation: https://pandas.pydata.org/pandas-docs/stable/user_guide/indexing.html#returning-a-view-versus-a-copy\n",
      "  dataset_capital['FORMATADO_COM_DS_ENDERECO'] = dataset_capital['DS_ENDERECO'] + ', ' + dataset_capital['NM_MUNICIPIO']\n"
     ]
    }
   ],
   "source": [
    "dataset_capital['FORMATADO_COM_DS_ENDERECO'] = dataset_capital['DS_ENDERECO'] + ', ' + dataset_capital['NM_MUNICIPIO']"
   ]
  },
  {
   "cell_type": "code",
   "execution_count": 20,
   "metadata": {},
   "outputs": [
    {
     "data": {
      "text/plain": [
       "Index(['DT_GERACAO', 'HH_GERACAO', 'AA_ELEICAO', 'DT_ELEICAO', 'DS_ELEICAO',\n",
       "       'NR_TURNO', 'SG_UF', 'CD_MUNICIPIO', 'NM_MUNICIPIO', 'NR_ZONA',\n",
       "       'NR_SECAO', 'CD_TIPO_SECAO_AGREGADA', 'DS_TIPO_SECAO_AGREGADA',\n",
       "       'NR_SECAO_PRINCIPAL', 'NR_LOCAL_VOTACAO', 'NM_LOCAL_VOTACAO',\n",
       "       'CD_TIPO_LOCAL', 'DS_TIPO_LOCAL', 'DS_ENDERECO', 'NM_BAIRRO', 'NR_CEP',\n",
       "       'NR_TELEFONE_LOCAL', 'NR_LATITUDE', 'NR_LONGITUDE',\n",
       "       'CD_SITU_LOCAL_VOTACAO', 'DS_SITU_LOCAL_VOTACAO', 'CD_SITU_ZONA',\n",
       "       'DS_SITU_ZONA', 'CD_SITU_SECAO', 'DS_SITU_SECAO', 'CD_SITU_LOCALIDADE',\n",
       "       'DS_SITU_LOCALIDADE', 'CD_SITU_SECAO_ACESSIBILIDADE',\n",
       "       'DS_SITU_SECAO_ACESSIBILIDADE', 'QT_ELEITOR_SECAO',\n",
       "       'QT_ELEITOR_ELEICAO_FEDERAL', 'QT_ELEITOR_ELEICAO_ESTADUAL',\n",
       "       'QT_ELEITOR_ELEICAO_MUNICIPAL', 'NR_LOCAL_VOTACAO_ORIGINAL',\n",
       "       'NM_LOCAL_VOTACAO_ORIGINAL', 'DS_ENDERECO_LOCVT_ORIGINAL ',\n",
       "       'FORMATADO_COM_DS_ENDERECO'],\n",
       "      dtype='object')"
      ]
     },
     "execution_count": 20,
     "metadata": {},
     "output_type": "execute_result"
    }
   ],
   "source": [
    "dataset_capital.columns"
   ]
  },
  {
   "cell_type": "code",
   "execution_count": null,
   "metadata": {},
   "outputs": [],
   "source": [
    "ponto = geocode(dataset_capital['FORMATADO_COM_DS_ENDERECO'], provider=\"nominatim\", timeout=None, user_agent='my_application')"
   ]
  },
  {
   "cell_type": "code",
   "execution_count": 1,
   "metadata": {},
   "outputs": [
    {
     "name": "stdout",
     "output_type": "stream",
     "text": [
      "\u001b[33mThere's a new jupysql version available (0.10.10), you're running 0.10.9. To upgrade: pip install jupysql --upgrade\u001b[0m\n",
      "\u001b[32mDeploy AI and data apps for free on Ploomber Cloud! Learn more: https://docs.cloud.ploomber.io/en/latest/quickstart/signup.html\u001b[0m\n"
     ]
    }
   ],
   "source": [
    "%load_ext sql"
   ]
  },
  {
   "cell_type": "code",
   "execution_count": 2,
   "metadata": {},
   "outputs": [
    {
     "data": {
      "text/html": [
       "<span style=\"None\">Connecting to &#x27;sqlite:///geolocalizacao_sp.sqlite3&#x27;</span>"
      ],
      "text/plain": [
       "Connecting to 'sqlite:///geolocalizacao_sp.sqlite3'"
      ]
     },
     "metadata": {},
     "output_type": "display_data"
    }
   ],
   "source": [
    "%sql sqlite:///geolocalizacao_sp.sqlite3"
   ]
  },
  {
   "cell_type": "code",
   "execution_count": 21,
   "metadata": {},
   "outputs": [
    {
     "data": {
      "text/html": [
       "<span style=\"None\">Running query in &#x27;sqlite:///geolocalizacao_sp.sqlite3&#x27;</span>"
      ],
      "text/plain": [
       "Running query in 'sqlite:///geolocalizacao_sp.sqlite3'"
      ]
     },
     "metadata": {},
     "output_type": "display_data"
    },
    {
     "data": {
      "text/html": [
       "<span style=\"color: green\">Success! Persisted dataset_capital to the database.</span>"
      ],
      "text/plain": [
       "Success! Persisted dataset_capital to the database."
      ]
     },
     "metadata": {},
     "output_type": "display_data"
    }
   ],
   "source": [
    "%sql --persist dataset_capital"
   ]
  },
  {
   "cell_type": "code",
   "execution_count": 22,
   "metadata": {},
   "outputs": [
    {
     "data": {
      "text/html": [
       "<span style=\"None\">Running query in &#x27;sqlite:///geolocalizacao_sp.sqlite3&#x27;</span>"
      ],
      "text/plain": [
       "Running query in 'sqlite:///geolocalizacao_sp.sqlite3'"
      ]
     },
     "metadata": {},
     "output_type": "display_data"
    },
    {
     "data": {
      "text/html": [
       "<table>\n",
       "    <thead>\n",
       "        <tr>\n",
       "            <th>name</th>\n",
       "        </tr>\n",
       "    </thead>\n",
       "    <tbody>\n",
       "        <tr>\n",
       "            <td>dataset_capital</td>\n",
       "        </tr>\n",
       "    </tbody>\n",
       "</table>"
      ],
      "text/plain": [
       "+-----------------+\n",
       "|       name      |\n",
       "+-----------------+\n",
       "| dataset_capital |\n",
       "+-----------------+"
      ]
     },
     "execution_count": 22,
     "metadata": {},
     "output_type": "execute_result"
    }
   ],
   "source": [
    "%sql SELECT name FROM sqlite_master WHERE type='table';"
   ]
  },
  {
   "cell_type": "code",
   "execution_count": 23,
   "metadata": {},
   "outputs": [
    {
     "data": {
      "text/html": [
       "<span style=\"None\">Running query in &#x27;sqlite:///geolocalizacao_sp.sqlite3&#x27;</span>"
      ],
      "text/plain": [
       "Running query in 'sqlite:///geolocalizacao_sp.sqlite3'"
      ]
     },
     "metadata": {},
     "output_type": "display_data"
    },
    {
     "data": {
      "text/html": [
       "<table>\n",
       "    <thead>\n",
       "        <tr>\n",
       "            <th>index</th>\n",
       "            <th>DT_GERACAO</th>\n",
       "            <th>HH_GERACAO</th>\n",
       "            <th>AA_ELEICAO</th>\n",
       "            <th>DT_ELEICAO</th>\n",
       "            <th>DS_ELEICAO</th>\n",
       "            <th>NR_TURNO</th>\n",
       "            <th>SG_UF</th>\n",
       "            <th>CD_MUNICIPIO</th>\n",
       "            <th>NM_MUNICIPIO</th>\n",
       "            <th>NR_ZONA</th>\n",
       "            <th>NR_SECAO</th>\n",
       "            <th>CD_TIPO_SECAO_AGREGADA</th>\n",
       "            <th>DS_TIPO_SECAO_AGREGADA</th>\n",
       "            <th>NR_SECAO_PRINCIPAL</th>\n",
       "            <th>NR_LOCAL_VOTACAO</th>\n",
       "            <th>NM_LOCAL_VOTACAO</th>\n",
       "            <th>CD_TIPO_LOCAL</th>\n",
       "            <th>DS_TIPO_LOCAL</th>\n",
       "            <th>DS_ENDERECO</th>\n",
       "            <th>NM_BAIRRO</th>\n",
       "            <th>NR_CEP</th>\n",
       "            <th>NR_TELEFONE_LOCAL</th>\n",
       "            <th>NR_LATITUDE</th>\n",
       "            <th>NR_LONGITUDE</th>\n",
       "            <th>CD_SITU_LOCAL_VOTACAO</th>\n",
       "            <th>DS_SITU_LOCAL_VOTACAO</th>\n",
       "            <th>CD_SITU_ZONA</th>\n",
       "            <th>DS_SITU_ZONA</th>\n",
       "            <th>CD_SITU_SECAO</th>\n",
       "            <th>DS_SITU_SECAO</th>\n",
       "            <th>CD_SITU_LOCALIDADE</th>\n",
       "            <th>DS_SITU_LOCALIDADE</th>\n",
       "            <th>CD_SITU_SECAO_ACESSIBILIDADE</th>\n",
       "            <th>DS_SITU_SECAO_ACESSIBILIDADE</th>\n",
       "            <th>QT_ELEITOR_SECAO</th>\n",
       "            <th>QT_ELEITOR_ELEICAO_FEDERAL</th>\n",
       "            <th>QT_ELEITOR_ELEICAO_ESTADUAL</th>\n",
       "            <th>QT_ELEITOR_ELEICAO_MUNICIPAL</th>\n",
       "            <th>NR_LOCAL_VOTACAO_ORIGINAL</th>\n",
       "            <th>NM_LOCAL_VOTACAO_ORIGINAL</th>\n",
       "            <th>DS_ENDERECO_LOCVT_ORIGINAL </th>\n",
       "            <th>FORMATADO_COM_DS_ENDERECO</th>\n",
       "        </tr>\n",
       "    </thead>\n",
       "    <tbody>\n",
       "        <tr>\n",
       "            <td>17</td>\n",
       "            <td>07/03/2023</td>\n",
       "            <td>11:13:40</td>\n",
       "            <td>2012</td>\n",
       "            <td>07/10/2012</td>\n",
       "            <td>ELEIÇÕES MUNICIPAIS 2012 PRIMEIRO TURNO</td>\n",
       "            <td>1</td>\n",
       "            <td>SP</td>\n",
       "            <td>71072</td>\n",
       "            <td>SÃO PAULO</td>\n",
       "            <td>254</td>\n",
       "            <td>99</td>\n",
       "            <td>1</td>\n",
       "            <td>Principal</td>\n",
       "            <td>-1</td>\n",
       "            <td>1082</td>\n",
       "            <td>EMEF DOM PEDRO I</td>\n",
       "            <td>1</td>\n",
       "            <td>Convencional</td>\n",
       "            <td>PRACA PRES JANIO DA SILVA QUADROS, S/N</td>\n",
       "            <td>JARDIM JAPAO</td>\n",
       "            <td>2132000</td>\n",
       "            <td>62017173</td>\n",
       "            <td>-23.5001083</td>\n",
       "            <td>-46.5821777</td>\n",
       "            <td>1</td>\n",
       "            <td>ATIVO</td>\n",
       "            <td>1</td>\n",
       "            <td>ATIVO</td>\n",
       "            <td>1</td>\n",
       "            <td>ATIVO</td>\n",
       "            <td>1</td>\n",
       "            <td>ATIVO</td>\n",
       "            <td>0</td>\n",
       "            <td>Sem acessibilidade</td>\n",
       "            <td>353</td>\n",
       "            <td>0</td>\n",
       "            <td>0</td>\n",
       "            <td>353</td>\n",
       "            <td>1082</td>\n",
       "            <td>EMEF DOM PEDRO I</td>\n",
       "            <td>PRACA PRES JANIO DA SILVA QUADROS, S/N</td>\n",
       "            <td>PRACA PRES JANIO DA SILVA QUADROS, S/N, SÃO PAULO</td>\n",
       "        </tr>\n",
       "        <tr>\n",
       "            <td>60</td>\n",
       "            <td>07/03/2023</td>\n",
       "            <td>11:13:40</td>\n",
       "            <td>2012</td>\n",
       "            <td>28/10/2012</td>\n",
       "            <td>ELEIÇÕES MUNICIPAIS 2012 SEGUNDO TURNO</td>\n",
       "            <td>2</td>\n",
       "            <td>SP</td>\n",
       "            <td>71072</td>\n",
       "            <td>SÃO PAULO</td>\n",
       "            <td>376</td>\n",
       "            <td>369</td>\n",
       "            <td>1</td>\n",
       "            <td>Principal</td>\n",
       "            <td>-1</td>\n",
       "            <td>1953</td>\n",
       "            <td>EE DOUTOR GENESIO DE ALMEIDA MOURA</td>\n",
       "            <td>1</td>\n",
       "            <td>Convencional</td>\n",
       "            <td>RUA DOMINGOS AREVALO, 862</td>\n",
       "            <td>JARDIM DAMASCENO</td>\n",
       "            <td>2879070</td>\n",
       "            <td>39214727</td>\n",
       "            <td>-23.4471555</td>\n",
       "            <td>-46.6967415</td>\n",
       "            <td>1</td>\n",
       "            <td>ATIVO</td>\n",
       "            <td>1</td>\n",
       "            <td>ATIVO</td>\n",
       "            <td>1</td>\n",
       "            <td>ATIVO</td>\n",
       "            <td>1</td>\n",
       "            <td>ATIVO</td>\n",
       "            <td>0</td>\n",
       "            <td>Sem acessibilidade</td>\n",
       "            <td>396</td>\n",
       "            <td>0</td>\n",
       "            <td>0</td>\n",
       "            <td>396</td>\n",
       "            <td>1953</td>\n",
       "            <td>EE DOUTOR GENESIO DE ALMEIDA MOURA</td>\n",
       "            <td>RUA DOMINGOS AREVALO, 862</td>\n",
       "            <td>RUA DOMINGOS AREVALO, 862, SÃO PAULO</td>\n",
       "        </tr>\n",
       "        <tr>\n",
       "            <td>65</td>\n",
       "            <td>07/03/2023</td>\n",
       "            <td>11:13:40</td>\n",
       "            <td>2012</td>\n",
       "            <td>28/10/2012</td>\n",
       "            <td>ELEIÇÕES MUNICIPAIS 2012 SEGUNDO TURNO</td>\n",
       "            <td>2</td>\n",
       "            <td>SP</td>\n",
       "            <td>71072</td>\n",
       "            <td>SÃO PAULO</td>\n",
       "            <td>373</td>\n",
       "            <td>420</td>\n",
       "            <td>1</td>\n",
       "            <td>Principal</td>\n",
       "            <td>-1</td>\n",
       "            <td>2119</td>\n",
       "            <td>EE JORNALISTA DAVID NASSER</td>\n",
       "            <td>1</td>\n",
       "            <td>Convencional</td>\n",
       "            <td>R SEVERIANO CARDOSO, 280</td>\n",
       "            <td>JARDIM MACEDONIA</td>\n",
       "            <td>5894430</td>\n",
       "            <td>58214869</td>\n",
       "            <td>-23.654529</td>\n",
       "            <td>-46.7871035</td>\n",
       "            <td>1</td>\n",
       "            <td>ATIVO</td>\n",
       "            <td>1</td>\n",
       "            <td>ATIVO</td>\n",
       "            <td>1</td>\n",
       "            <td>ATIVO</td>\n",
       "            <td>1</td>\n",
       "            <td>ATIVO</td>\n",
       "            <td>0</td>\n",
       "            <td>Sem acessibilidade</td>\n",
       "            <td>393</td>\n",
       "            <td>0</td>\n",
       "            <td>0</td>\n",
       "            <td>393</td>\n",
       "            <td>2119</td>\n",
       "            <td>EE JORNALISTA DAVID NASSER</td>\n",
       "            <td>R SEVERIANO CARDOSO, 280</td>\n",
       "            <td>R SEVERIANO CARDOSO, 280, SÃO PAULO</td>\n",
       "        </tr>\n",
       "        <tr>\n",
       "            <td>70</td>\n",
       "            <td>07/03/2023</td>\n",
       "            <td>11:13:40</td>\n",
       "            <td>2012</td>\n",
       "            <td>28/10/2012</td>\n",
       "            <td>ELEIÇÕES MUNICIPAIS 2012 SEGUNDO TURNO</td>\n",
       "            <td>2</td>\n",
       "            <td>SP</td>\n",
       "            <td>71072</td>\n",
       "            <td>SÃO PAULO</td>\n",
       "            <td>349</td>\n",
       "            <td>177</td>\n",
       "            <td>1</td>\n",
       "            <td>Principal</td>\n",
       "            <td>-1</td>\n",
       "            <td>1139</td>\n",
       "            <td>EMEF RODRIGUES ALVES</td>\n",
       "            <td>1</td>\n",
       "            <td>Convencional</td>\n",
       "            <td>RUA RICARDO, 81</td>\n",
       "            <td>VILA DOM PEDRO II</td>\n",
       "            <td>2246020</td>\n",
       "            <td>22013734</td>\n",
       "            <td>-23.4896523</td>\n",
       "            <td>-46.6002397</td>\n",
       "            <td>1</td>\n",
       "            <td>ATIVO</td>\n",
       "            <td>1</td>\n",
       "            <td>ATIVO</td>\n",
       "            <td>1</td>\n",
       "            <td>ATIVO</td>\n",
       "            <td>1</td>\n",
       "            <td>ATIVO</td>\n",
       "            <td>0</td>\n",
       "            <td>Sem acessibilidade</td>\n",
       "            <td>387</td>\n",
       "            <td>0</td>\n",
       "            <td>0</td>\n",
       "            <td>387</td>\n",
       "            <td>1139</td>\n",
       "            <td>EMEF RODRIGUES ALVES</td>\n",
       "            <td>RUA RICARDO, 81</td>\n",
       "            <td>RUA RICARDO, 81, SÃO PAULO</td>\n",
       "        </tr>\n",
       "        <tr>\n",
       "            <td>76</td>\n",
       "            <td>07/03/2023</td>\n",
       "            <td>11:13:40</td>\n",
       "            <td>2012</td>\n",
       "            <td>07/10/2012</td>\n",
       "            <td>ELEIÇÕES MUNICIPAIS 2012 PRIMEIRO TURNO</td>\n",
       "            <td>1</td>\n",
       "            <td>SP</td>\n",
       "            <td>71072</td>\n",
       "            <td>SÃO PAULO</td>\n",
       "            <td>1</td>\n",
       "            <td>107</td>\n",
       "            <td>1</td>\n",
       "            <td>Principal</td>\n",
       "            <td>-1</td>\n",
       "            <td>1414</td>\n",
       "            <td>FMU (PREDIO 17) - FACULDADE DE DIREITO</td>\n",
       "            <td>1</td>\n",
       "            <td>Convencional</td>\n",
       "            <td>AVENIDA DA LIBERDADE, 749</td>\n",
       "            <td>LIBERDADE</td>\n",
       "            <td>1503001</td>\n",
       "            <td>3346 6200</td>\n",
       "            <td>-23.559328</td>\n",
       "            <td>-46.6375069</td>\n",
       "            <td>1</td>\n",
       "            <td>ATIVO</td>\n",
       "            <td>1</td>\n",
       "            <td>ATIVO</td>\n",
       "            <td>1</td>\n",
       "            <td>ATIVO</td>\n",
       "            <td>1</td>\n",
       "            <td>ATIVO</td>\n",
       "            <td>0</td>\n",
       "            <td>Sem acessibilidade</td>\n",
       "            <td>313</td>\n",
       "            <td>0</td>\n",
       "            <td>0</td>\n",
       "            <td>313</td>\n",
       "            <td>1414</td>\n",
       "            <td>FMU (PREDIO 17) - FACULDADE DE DIREITO</td>\n",
       "            <td>AVENIDA DA LIBERDADE, 749</td>\n",
       "            <td>AVENIDA DA LIBERDADE, 749, SÃO PAULO</td>\n",
       "        </tr>\n",
       "        <tr>\n",
       "            <td>82</td>\n",
       "            <td>07/03/2023</td>\n",
       "            <td>11:13:40</td>\n",
       "            <td>2012</td>\n",
       "            <td>07/10/2012</td>\n",
       "            <td>ELEIÇÕES MUNICIPAIS 2012 PRIMEIRO TURNO</td>\n",
       "            <td>1</td>\n",
       "            <td>SP</td>\n",
       "            <td>71072</td>\n",
       "            <td>SÃO PAULO</td>\n",
       "            <td>389</td>\n",
       "            <td>191</td>\n",
       "            <td>1</td>\n",
       "            <td>Principal</td>\n",
       "            <td>-1</td>\n",
       "            <td>1201</td>\n",
       "            <td>EMEF FERNANDO GRACIOSO</td>\n",
       "            <td>1</td>\n",
       "            <td>Convencional</td>\n",
       "            <td>R SILVEIRANIA, S/N</td>\n",
       "            <td>JARDIM DO RUSSO</td>\n",
       "            <td>5211060</td>\n",
       "            <td>39171388</td>\n",
       "            <td>-23.40914309</td>\n",
       "            <td>-46.76060768</td>\n",
       "            <td>1</td>\n",
       "            <td>ATIVO</td>\n",
       "            <td>1</td>\n",
       "            <td>ATIVO</td>\n",
       "            <td>1</td>\n",
       "            <td>ATIVO</td>\n",
       "            <td>1</td>\n",
       "            <td>ATIVO</td>\n",
       "            <td>0</td>\n",
       "            <td>Sem acessibilidade</td>\n",
       "            <td>395</td>\n",
       "            <td>0</td>\n",
       "            <td>0</td>\n",
       "            <td>395</td>\n",
       "            <td>1201</td>\n",
       "            <td>EMEF FERNANDO GRACIOSO</td>\n",
       "            <td>R SILVEIRANIA, S/N</td>\n",
       "            <td>R SILVEIRANIA, S/N, SÃO PAULO</td>\n",
       "        </tr>\n",
       "        <tr>\n",
       "            <td>99</td>\n",
       "            <td>07/03/2023</td>\n",
       "            <td>11:13:40</td>\n",
       "            <td>2012</td>\n",
       "            <td>07/10/2012</td>\n",
       "            <td>ELEIÇÕES MUNICIPAIS 2012 PRIMEIRO TURNO</td>\n",
       "            <td>1</td>\n",
       "            <td>SP</td>\n",
       "            <td>71072</td>\n",
       "            <td>SÃO PAULO</td>\n",
       "            <td>421</td>\n",
       "            <td>260</td>\n",
       "            <td>1</td>\n",
       "            <td>Principal</td>\n",
       "            <td>-1</td>\n",
       "            <td>1198</td>\n",
       "            <td>EMEF PROF GIUSEPPE TAVOLARO</td>\n",
       "            <td>1</td>\n",
       "            <td>Convencional</td>\n",
       "            <td>R ALEXANDRE GROPALLI, 147</td>\n",
       "            <td>FAZENDA DA JUTA</td>\n",
       "            <td>3989000</td>\n",
       "            <td>29196487</td>\n",
       "            <td>-23.61368385</td>\n",
       "            <td>-46.48949507</td>\n",
       "            <td>1</td>\n",
       "            <td>ATIVO</td>\n",
       "            <td>1</td>\n",
       "            <td>ATIVO</td>\n",
       "            <td>1</td>\n",
       "            <td>ATIVO</td>\n",
       "            <td>1</td>\n",
       "            <td>ATIVO</td>\n",
       "            <td>0</td>\n",
       "            <td>Sem acessibilidade</td>\n",
       "            <td>369</td>\n",
       "            <td>0</td>\n",
       "            <td>0</td>\n",
       "            <td>369</td>\n",
       "            <td>1198</td>\n",
       "            <td>EMEF PROF GIUSEPPE TAVOLARO</td>\n",
       "            <td>R ALEXANDRE GROPALLI, 147</td>\n",
       "            <td>R ALEXANDRE GROPALLI, 147, SÃO PAULO</td>\n",
       "        </tr>\n",
       "        <tr>\n",
       "            <td>121</td>\n",
       "            <td>07/03/2023</td>\n",
       "            <td>11:13:40</td>\n",
       "            <td>2012</td>\n",
       "            <td>07/10/2012</td>\n",
       "            <td>ELEIÇÕES MUNICIPAIS 2012 PRIMEIRO TURNO</td>\n",
       "            <td>1</td>\n",
       "            <td>SP</td>\n",
       "            <td>71072</td>\n",
       "            <td>SÃO PAULO</td>\n",
       "            <td>258</td>\n",
       "            <td>372</td>\n",
       "            <td>1</td>\n",
       "            <td>Principal</td>\n",
       "            <td>-1</td>\n",
       "            <td>1171</td>\n",
       "            <td>EE OSWALDO ARANHA</td>\n",
       "            <td>1</td>\n",
       "            <td>Convencional</td>\n",
       "            <td>AV PORTUGAL, 859</td>\n",
       "            <td>CIDADE MONCOES</td>\n",
       "            <td>4565000</td>\n",
       "            <td>50448247</td>\n",
       "            <td>-1.0</td>\n",
       "            <td>-1.0</td>\n",
       "            <td>5</td>\n",
       "            <td>BLOQUEADO</td>\n",
       "            <td>1</td>\n",
       "            <td>ATIVO</td>\n",
       "            <td>1</td>\n",
       "            <td>ATIVO</td>\n",
       "            <td>1</td>\n",
       "            <td>ATIVO</td>\n",
       "            <td>1</td>\n",
       "            <td>Com acessibilidade</td>\n",
       "            <td>266</td>\n",
       "            <td>0</td>\n",
       "            <td>0</td>\n",
       "            <td>266</td>\n",
       "            <td>1171</td>\n",
       "            <td>EE OSWALDO ARANHA</td>\n",
       "            <td>AV PORTUGAL, 859</td>\n",
       "            <td>AV PORTUGAL, 859, SÃO PAULO</td>\n",
       "        </tr>\n",
       "        <tr>\n",
       "            <td>141</td>\n",
       "            <td>07/03/2023</td>\n",
       "            <td>11:13:40</td>\n",
       "            <td>2012</td>\n",
       "            <td>07/10/2012</td>\n",
       "            <td>ELEIÇÕES MUNICIPAIS 2012 PRIMEIRO TURNO</td>\n",
       "            <td>1</td>\n",
       "            <td>SP</td>\n",
       "            <td>71072</td>\n",
       "            <td>SÃO PAULO</td>\n",
       "            <td>249</td>\n",
       "            <td>625</td>\n",
       "            <td>1</td>\n",
       "            <td>Principal</td>\n",
       "            <td>-1</td>\n",
       "            <td>1147</td>\n",
       "            <td>EE DR OCTAVIO MENDES</td>\n",
       "            <td>1</td>\n",
       "            <td>Convencional</td>\n",
       "            <td>R VOLUNTARIOS DA PATRIA, 3422</td>\n",
       "            <td>SANTANA</td>\n",
       "            <td>2402300</td>\n",
       "            <td>011 29761201</td>\n",
       "            <td>-23.4896273</td>\n",
       "            <td>-46.6261632</td>\n",
       "            <td>1</td>\n",
       "            <td>ATIVO</td>\n",
       "            <td>1</td>\n",
       "            <td>ATIVO</td>\n",
       "            <td>1</td>\n",
       "            <td>ATIVO</td>\n",
       "            <td>1</td>\n",
       "            <td>ATIVO</td>\n",
       "            <td>0</td>\n",
       "            <td>Sem acessibilidade</td>\n",
       "            <td>376</td>\n",
       "            <td>0</td>\n",
       "            <td>0</td>\n",
       "            <td>376</td>\n",
       "            <td>1147</td>\n",
       "            <td>EE DR OCTAVIO MENDES</td>\n",
       "            <td>R VOLUNTARIOS DA PATRIA, 3422</td>\n",
       "            <td>R VOLUNTARIOS DA PATRIA, 3422, SÃO PAULO</td>\n",
       "        </tr>\n",
       "        <tr>\n",
       "            <td>143</td>\n",
       "            <td>07/03/2023</td>\n",
       "            <td>11:13:40</td>\n",
       "            <td>2012</td>\n",
       "            <td>28/10/2012</td>\n",
       "            <td>ELEIÇÕES MUNICIPAIS 2012 SEGUNDO TURNO</td>\n",
       "            <td>2</td>\n",
       "            <td>SP</td>\n",
       "            <td>71072</td>\n",
       "            <td>SÃO PAULO</td>\n",
       "            <td>246</td>\n",
       "            <td>260</td>\n",
       "            <td>1</td>\n",
       "            <td>Principal</td>\n",
       "            <td>-1</td>\n",
       "            <td>1287</td>\n",
       "            <td>UNISA - UNIVERSIDADE SANTO AMARO</td>\n",
       "            <td>1</td>\n",
       "            <td>Convencional</td>\n",
       "            <td>RUA ISABEL SCHMIDT, 349</td>\n",
       "            <td>SANTO AMARO</td>\n",
       "            <td>4743030</td>\n",
       "            <td>21418803</td>\n",
       "            <td>-23.652005</td>\n",
       "            <td>-46.7024654</td>\n",
       "            <td>1</td>\n",
       "            <td>ATIVO</td>\n",
       "            <td>1</td>\n",
       "            <td>ATIVO</td>\n",
       "            <td>1</td>\n",
       "            <td>ATIVO</td>\n",
       "            <td>1</td>\n",
       "            <td>ATIVO</td>\n",
       "            <td>1</td>\n",
       "            <td>Com acessibilidade</td>\n",
       "            <td>318</td>\n",
       "            <td>0</td>\n",
       "            <td>0</td>\n",
       "            <td>318</td>\n",
       "            <td>1287</td>\n",
       "            <td>UNISA - UNIVERSIDADE SANTO AMARO</td>\n",
       "            <td>RUA ISABEL SCHMIDT, 349</td>\n",
       "            <td>RUA ISABEL SCHMIDT, 349, SÃO PAULO</td>\n",
       "        </tr>\n",
       "    </tbody>\n",
       "</table>\n",
       "<span style=\"font-style:italic;text-align:center;\">Truncated to <a href=\"https://jupysql.ploomber.io/en/latest/api/configuration.html#displaylimit\">displaylimit</a> of 10.</span>"
      ],
      "text/plain": [
       "+-------+------------+------------+------------+------------+-----------------------------------------+----------+-------+--------------+--------------+---------+----------+------------------------+------------------------+--------------------+------------------+----------------------------------------+---------------+---------------+----------------------------------------+-------------------+---------+-------------------+--------------+--------------+-----------------------+-----------------------+--------------+--------------+---------------+---------------+--------------------+--------------------+------------------------------+------------------------------+------------------+----------------------------+-----------------------------+------------------------------+---------------------------+----------------------------------------+----------------------------------------+---------------------------------------------------+\n",
       "| index | DT_GERACAO | HH_GERACAO | AA_ELEICAO | DT_ELEICAO |                DS_ELEICAO               | NR_TURNO | SG_UF | CD_MUNICIPIO | NM_MUNICIPIO | NR_ZONA | NR_SECAO | CD_TIPO_SECAO_AGREGADA | DS_TIPO_SECAO_AGREGADA | NR_SECAO_PRINCIPAL | NR_LOCAL_VOTACAO |            NM_LOCAL_VOTACAO            | CD_TIPO_LOCAL | DS_TIPO_LOCAL |              DS_ENDERECO               |     NM_BAIRRO     |  NR_CEP | NR_TELEFONE_LOCAL | NR_LATITUDE  | NR_LONGITUDE | CD_SITU_LOCAL_VOTACAO | DS_SITU_LOCAL_VOTACAO | CD_SITU_ZONA | DS_SITU_ZONA | CD_SITU_SECAO | DS_SITU_SECAO | CD_SITU_LOCALIDADE | DS_SITU_LOCALIDADE | CD_SITU_SECAO_ACESSIBILIDADE | DS_SITU_SECAO_ACESSIBILIDADE | QT_ELEITOR_SECAO | QT_ELEITOR_ELEICAO_FEDERAL | QT_ELEITOR_ELEICAO_ESTADUAL | QT_ELEITOR_ELEICAO_MUNICIPAL | NR_LOCAL_VOTACAO_ORIGINAL |       NM_LOCAL_VOTACAO_ORIGINAL        |      DS_ENDERECO_LOCVT_ORIGINAL        |             FORMATADO_COM_DS_ENDERECO             |\n",
       "+-------+------------+------------+------------+------------+-----------------------------------------+----------+-------+--------------+--------------+---------+----------+------------------------+------------------------+--------------------+------------------+----------------------------------------+---------------+---------------+----------------------------------------+-------------------+---------+-------------------+--------------+--------------+-----------------------+-----------------------+--------------+--------------+---------------+---------------+--------------------+--------------------+------------------------------+------------------------------+------------------+----------------------------+-----------------------------+------------------------------+---------------------------+----------------------------------------+----------------------------------------+---------------------------------------------------+\n",
       "|   17  | 07/03/2023 |  11:13:40  |    2012    | 07/10/2012 | ELEIÇÕES MUNICIPAIS 2012 PRIMEIRO TURNO |    1     |   SP  |    71072     |  SÃO PAULO   |   254   |    99    |           1            |       Principal        |         -1         |       1082       |            EMEF DOM PEDRO I            |       1       |  Convencional | PRACA PRES JANIO DA SILVA QUADROS, S/N |    JARDIM JAPAO   | 2132000 |      62017173     | -23.5001083  | -46.5821777  |           1           |         ATIVO         |      1       |    ATIVO     |       1       |     ATIVO     |         1          |       ATIVO        |              0               |      Sem acessibilidade      |       353        |             0              |              0              |             353              |            1082           |            EMEF DOM PEDRO I            | PRACA PRES JANIO DA SILVA QUADROS, S/N | PRACA PRES JANIO DA SILVA QUADROS, S/N, SÃO PAULO |\n",
       "|   60  | 07/03/2023 |  11:13:40  |    2012    | 28/10/2012 |  ELEIÇÕES MUNICIPAIS 2012 SEGUNDO TURNO |    2     |   SP  |    71072     |  SÃO PAULO   |   376   |   369    |           1            |       Principal        |         -1         |       1953       |   EE DOUTOR GENESIO DE ALMEIDA MOURA   |       1       |  Convencional |       RUA DOMINGOS AREVALO, 862        |  JARDIM DAMASCENO | 2879070 |      39214727     | -23.4471555  | -46.6967415  |           1           |         ATIVO         |      1       |    ATIVO     |       1       |     ATIVO     |         1          |       ATIVO        |              0               |      Sem acessibilidade      |       396        |             0              |              0              |             396              |            1953           |   EE DOUTOR GENESIO DE ALMEIDA MOURA   |       RUA DOMINGOS AREVALO, 862        |        RUA DOMINGOS AREVALO, 862, SÃO PAULO       |\n",
       "|   65  | 07/03/2023 |  11:13:40  |    2012    | 28/10/2012 |  ELEIÇÕES MUNICIPAIS 2012 SEGUNDO TURNO |    2     |   SP  |    71072     |  SÃO PAULO   |   373   |   420    |           1            |       Principal        |         -1         |       2119       |       EE JORNALISTA DAVID NASSER       |       1       |  Convencional |        R SEVERIANO CARDOSO, 280        |  JARDIM MACEDONIA | 5894430 |      58214869     |  -23.654529  | -46.7871035  |           1           |         ATIVO         |      1       |    ATIVO     |       1       |     ATIVO     |         1          |       ATIVO        |              0               |      Sem acessibilidade      |       393        |             0              |              0              |             393              |            2119           |       EE JORNALISTA DAVID NASSER       |        R SEVERIANO CARDOSO, 280        |        R SEVERIANO CARDOSO, 280, SÃO PAULO        |\n",
       "|   70  | 07/03/2023 |  11:13:40  |    2012    | 28/10/2012 |  ELEIÇÕES MUNICIPAIS 2012 SEGUNDO TURNO |    2     |   SP  |    71072     |  SÃO PAULO   |   349   |   177    |           1            |       Principal        |         -1         |       1139       |          EMEF RODRIGUES ALVES          |       1       |  Convencional |            RUA RICARDO, 81             | VILA DOM PEDRO II | 2246020 |      22013734     | -23.4896523  | -46.6002397  |           1           |         ATIVO         |      1       |    ATIVO     |       1       |     ATIVO     |         1          |       ATIVO        |              0               |      Sem acessibilidade      |       387        |             0              |              0              |             387              |            1139           |          EMEF RODRIGUES ALVES          |            RUA RICARDO, 81             |             RUA RICARDO, 81, SÃO PAULO            |\n",
       "|   76  | 07/03/2023 |  11:13:40  |    2012    | 07/10/2012 | ELEIÇÕES MUNICIPAIS 2012 PRIMEIRO TURNO |    1     |   SP  |    71072     |  SÃO PAULO   |    1    |   107    |           1            |       Principal        |         -1         |       1414       | FMU (PREDIO 17) - FACULDADE DE DIREITO |       1       |  Convencional |       AVENIDA DA LIBERDADE, 749        |     LIBERDADE     | 1503001 |     3346 6200     |  -23.559328  | -46.6375069  |           1           |         ATIVO         |      1       |    ATIVO     |       1       |     ATIVO     |         1          |       ATIVO        |              0               |      Sem acessibilidade      |       313        |             0              |              0              |             313              |            1414           | FMU (PREDIO 17) - FACULDADE DE DIREITO |       AVENIDA DA LIBERDADE, 749        |        AVENIDA DA LIBERDADE, 749, SÃO PAULO       |\n",
       "|   82  | 07/03/2023 |  11:13:40  |    2012    | 07/10/2012 | ELEIÇÕES MUNICIPAIS 2012 PRIMEIRO TURNO |    1     |   SP  |    71072     |  SÃO PAULO   |   389   |   191    |           1            |       Principal        |         -1         |       1201       |         EMEF FERNANDO GRACIOSO         |       1       |  Convencional |           R SILVEIRANIA, S/N           |  JARDIM DO RUSSO  | 5211060 |      39171388     | -23.40914309 | -46.76060768 |           1           |         ATIVO         |      1       |    ATIVO     |       1       |     ATIVO     |         1          |       ATIVO        |              0               |      Sem acessibilidade      |       395        |             0              |              0              |             395              |            1201           |         EMEF FERNANDO GRACIOSO         |           R SILVEIRANIA, S/N           |           R SILVEIRANIA, S/N, SÃO PAULO           |\n",
       "|   99  | 07/03/2023 |  11:13:40  |    2012    | 07/10/2012 | ELEIÇÕES MUNICIPAIS 2012 PRIMEIRO TURNO |    1     |   SP  |    71072     |  SÃO PAULO   |   421   |   260    |           1            |       Principal        |         -1         |       1198       |      EMEF PROF GIUSEPPE TAVOLARO       |       1       |  Convencional |       R ALEXANDRE GROPALLI, 147        |  FAZENDA DA JUTA  | 3989000 |      29196487     | -23.61368385 | -46.48949507 |           1           |         ATIVO         |      1       |    ATIVO     |       1       |     ATIVO     |         1          |       ATIVO        |              0               |      Sem acessibilidade      |       369        |             0              |              0              |             369              |            1198           |      EMEF PROF GIUSEPPE TAVOLARO       |       R ALEXANDRE GROPALLI, 147        |        R ALEXANDRE GROPALLI, 147, SÃO PAULO       |\n",
       "|  121  | 07/03/2023 |  11:13:40  |    2012    | 07/10/2012 | ELEIÇÕES MUNICIPAIS 2012 PRIMEIRO TURNO |    1     |   SP  |    71072     |  SÃO PAULO   |   258   |   372    |           1            |       Principal        |         -1         |       1171       |           EE OSWALDO ARANHA            |       1       |  Convencional |            AV PORTUGAL, 859            |   CIDADE MONCOES  | 4565000 |      50448247     |     -1.0     |     -1.0     |           5           |       BLOQUEADO       |      1       |    ATIVO     |       1       |     ATIVO     |         1          |       ATIVO        |              1               |      Com acessibilidade      |       266        |             0              |              0              |             266              |            1171           |           EE OSWALDO ARANHA            |            AV PORTUGAL, 859            |            AV PORTUGAL, 859, SÃO PAULO            |\n",
       "|  141  | 07/03/2023 |  11:13:40  |    2012    | 07/10/2012 | ELEIÇÕES MUNICIPAIS 2012 PRIMEIRO TURNO |    1     |   SP  |    71072     |  SÃO PAULO   |   249   |   625    |           1            |       Principal        |         -1         |       1147       |          EE DR OCTAVIO MENDES          |       1       |  Convencional |     R VOLUNTARIOS DA PATRIA, 3422      |      SANTANA      | 2402300 |    011 29761201   | -23.4896273  | -46.6261632  |           1           |         ATIVO         |      1       |    ATIVO     |       1       |     ATIVO     |         1          |       ATIVO        |              0               |      Sem acessibilidade      |       376        |             0              |              0              |             376              |            1147           |          EE DR OCTAVIO MENDES          |     R VOLUNTARIOS DA PATRIA, 3422      |      R VOLUNTARIOS DA PATRIA, 3422, SÃO PAULO     |\n",
       "|  143  | 07/03/2023 |  11:13:40  |    2012    | 28/10/2012 |  ELEIÇÕES MUNICIPAIS 2012 SEGUNDO TURNO |    2     |   SP  |    71072     |  SÃO PAULO   |   246   |   260    |           1            |       Principal        |         -1         |       1287       |    UNISA - UNIVERSIDADE SANTO AMARO    |       1       |  Convencional |        RUA ISABEL SCHMIDT, 349         |    SANTO AMARO    | 4743030 |      21418803     |  -23.652005  | -46.7024654  |           1           |         ATIVO         |      1       |    ATIVO     |       1       |     ATIVO     |         1          |       ATIVO        |              1               |      Com acessibilidade      |       318        |             0              |              0              |             318              |            1287           |    UNISA - UNIVERSIDADE SANTO AMARO    |        RUA ISABEL SCHMIDT, 349         |         RUA ISABEL SCHMIDT, 349, SÃO PAULO        |\n",
       "+-------+------------+------------+------------+------------+-----------------------------------------+----------+-------+--------------+--------------+---------+----------+------------------------+------------------------+--------------------+------------------+----------------------------------------+---------------+---------------+----------------------------------------+-------------------+---------+-------------------+--------------+--------------+-----------------------+-----------------------+--------------+--------------+---------------+---------------+--------------------+--------------------+------------------------------+------------------------------+------------------+----------------------------+-----------------------------+------------------------------+---------------------------+----------------------------------------+----------------------------------------+---------------------------------------------------+\n",
       "Truncated to displaylimit of 10."
      ]
     },
     "execution_count": 23,
     "metadata": {},
     "output_type": "execute_result"
    }
   ],
   "source": [
    "%%sql\n",
    "\n",
    "SELECT * FROM dataset_capital LIMIT 10"
   ]
  },
  {
   "cell_type": "code",
   "execution_count": 24,
   "metadata": {},
   "outputs": [
    {
     "data": {
      "text/html": [
       "<span style=\"None\">Running query in &#x27;sqlite:///geolocalizacao_sp.sqlite3&#x27;</span>"
      ],
      "text/plain": [
       "Running query in 'sqlite:///geolocalizacao_sp.sqlite3'"
      ]
     },
     "metadata": {},
     "output_type": "display_data"
    },
    {
     "data": {
      "text/html": [
       "<table>\n",
       "    <thead>\n",
       "        <tr>\n",
       "        </tr>\n",
       "    </thead>\n",
       "    <tbody>\n",
       "    </tbody>\n",
       "</table>"
      ],
      "text/plain": [
       "++\n",
       "||\n",
       "++\n",
       "++"
      ]
     },
     "execution_count": 24,
     "metadata": {},
     "output_type": "execute_result"
    }
   ],
   "source": [
    "%%sql\n",
    "\n",
    "ALTER TABLE dataset_capital ADD COLUMN NEW_NR_LATITUDE REAL;\n",
    "ALTER TABLE dataset_capital ADD COLUMN NEW_NR_LONGITUDE REAL;\n",
    "ALTER TABLE dataset_capital ADD COLUMN GEOCODED INTEGER DEFAULT 0;\n"
   ]
  },
  {
   "cell_type": "code",
   "execution_count": null,
   "metadata": {},
   "outputs": [],
   "source": []
  }
 ],
 "metadata": {
  "kernelspec": {
   "display_name": "base",
   "language": "python",
   "name": "python3"
  },
  "language_info": {
   "codemirror_mode": {
    "name": "ipython",
    "version": 3
   },
   "file_extension": ".py",
   "mimetype": "text/x-python",
   "name": "python",
   "nbconvert_exporter": "python",
   "pygments_lexer": "ipython3",
   "version": "3.11.7"
  }
 },
 "nbformat": 4,
 "nbformat_minor": 2
}
